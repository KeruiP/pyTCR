{
 "cells": [
  {
   "cell_type": "markdown",
   "metadata": {
    "id": "_SDGTRFqEw34"
   },
   "source": [
    "Step 1 - Import python libraries"
   ]
  },
  {
   "cell_type": "code",
   "execution_count": null,
   "metadata": {
    "colab": {
     "base_uri": "https://localhost:8080/"
    },
    "executionInfo": {
     "elapsed": 1261,
     "status": "ok",
     "timestamp": 1611884335413,
     "user": {
      "displayName": "Kerui Peng",
      "photoUrl": "https://lh3.googleusercontent.com/a-/AOh14GhCFbNNQavDfyVFYGThBoWptUPcEdIkBKjW1JK6=s64",
      "userId": "00454648627764987552"
     },
     "user_tz": 480
    },
    "id": "6Ny67ILNh_2W",
    "outputId": "d8495349-dbea-4d37-fb68-492c8747f993"
   },
   "outputs": [
    {
     "name": "stderr",
     "output_type": "stream",
     "text": [
      "/usr/local/lib/python3.6/dist-packages/ipykernel_launcher.py:7: FutureWarning: pandas.util.testing is deprecated. Use the functions in the public API at pandas.testing instead.\n",
      "  import sys\n"
     ]
    }
   ],
   "source": [
    "import numpy as np\n",
    "import matplotlib.pyplot as plt\n",
    "from matplotlib import rc\n",
    "import pandas as pd\n",
    "import seaborn as sns\n",
    "import scipy\n",
    "import pandas.util.testing as tm\n",
    "from scipy import stats"
   ]
  },
  {
   "cell_type": "markdown",
   "metadata": {
    "id": "slARZUjEoWyY"
   },
   "source": [
    "Step 2 - Load and read the data file\n",
    "1.   Upload data file from Google drive and run the notebook in the cloud\n",
    "2.   Upload data file from local computer and run the notebook in the cloud\n",
    "3.   Load data file from local computer and run the notebook locally"
   ]
  },
  {
   "cell_type": "markdown",
   "metadata": {
    "id": "5-Bhdro8kFkM"
   },
   "source": [
    "Step 2 - Option 1 - Upload data file from Google drive"
   ]
  },
  {
   "cell_type": "code",
   "execution_count": null,
   "metadata": {
    "colab": {
     "base_uri": "https://localhost:8080/"
    },
    "executionInfo": {
     "elapsed": 475,
     "status": "ok",
     "timestamp": 1611884339400,
     "user": {
      "displayName": "Kerui Peng",
      "photoUrl": "https://lh3.googleusercontent.com/a-/AOh14GhCFbNNQavDfyVFYGThBoWptUPcEdIkBKjW1JK6=s64",
      "userId": "00454648627764987552"
     },
     "user_tz": 480
    },
    "id": "7Sh1ChXBiYsi",
    "outputId": "3e097bff-e2c5-4bcb-873e-877942aa0558"
   },
   "outputs": [
    {
     "name": "stdout",
     "output_type": "stream",
     "text": [
      "Drive already mounted at /content/drive; to attempt to forcibly remount, call drive.mount(\"/content/drive\", force_remount=True).\n"
     ]
    }
   ],
   "source": [
    "from google.colab import drive \n",
    "drive.mount('/content/drive')"
   ]
  },
  {
   "cell_type": "code",
   "execution_count": null,
   "metadata": {
    "colab": {
     "base_uri": "https://localhost:8080/",
     "height": 643
    },
    "executionInfo": {
     "elapsed": 118250,
     "status": "ok",
     "timestamp": 1611884458691,
     "user": {
      "displayName": "Kerui Peng",
      "photoUrl": "https://lh3.googleusercontent.com/a-/AOh14GhCFbNNQavDfyVFYGThBoWptUPcEdIkBKjW1JK6=s64",
      "userId": "00454648627764987552"
     },
     "user_tz": 480
    },
    "id": "Hu5NYRbPSEer",
    "outputId": "f92d868a-6941-4b8a-9176-716871cde033"
   },
   "outputs": [
    {
     "name": "stderr",
     "output_type": "stream",
     "text": [
      "/usr/local/lib/python3.6/dist-packages/IPython/core/interactiveshell.py:2822: DtypeWarning: Columns (13,14,16,20) have mixed types.Specify dtype option on import or set low_memory=False.\n",
      "  if self.run_code(code, result):\n"
     ]
    },
    {
     "data": {
      "text/html": [
       "<div>\n",
       "<style scoped>\n",
       "    .dataframe tbody tr th:only-of-type {\n",
       "        vertical-align: middle;\n",
       "    }\n",
       "\n",
       "    .dataframe tbody tr th {\n",
       "        vertical-align: top;\n",
       "    }\n",
       "\n",
       "    .dataframe thead th {\n",
       "        text-align: right;\n",
       "    }\n",
       "</style>\n",
       "<table border=\"1\" class=\"dataframe\">\n",
       "  <thead>\n",
       "    <tr style=\"text-align: right;\">\n",
       "      <th></th>\n",
       "      <th>sample</th>\n",
       "      <th>frequency</th>\n",
       "      <th>templates</th>\n",
       "      <th>amino_acid</th>\n",
       "      <th>rearrangement</th>\n",
       "      <th>v_resolved</th>\n",
       "      <th>d_resolved</th>\n",
       "      <th>j_resolved</th>\n",
       "      <th>age</th>\n",
       "      <th>gender</th>\n",
       "      <th>smoker</th>\n",
       "      <th>icu_admit</th>\n",
       "      <th>birth_year</th>\n",
       "      <th>blood_type</th>\n",
       "      <th>cmv_at_donation</th>\n",
       "      <th>days_from_last_symptom_to_sample</th>\n",
       "      <th>ethnicity</th>\n",
       "      <th>height_meters</th>\n",
       "      <th>hospitalized</th>\n",
       "      <th>weight_kg</th>\n",
       "      <th>race</th>\n",
       "    </tr>\n",
       "  </thead>\n",
       "  <tbody>\n",
       "    <tr>\n",
       "      <th>0</th>\n",
       "      <td>6232BW_TCRB</td>\n",
       "      <td>0.006751</td>\n",
       "      <td>3636</td>\n",
       "      <td>CASSLGLAGPGFF</td>\n",
       "      <td>ACGATCCAGCGCACAGAGCAGGAGGACTCGGCCGTGTATCTCTGTG...</td>\n",
       "      <td>TCRBV07-02</td>\n",
       "      <td>TCRBD02-01*02</td>\n",
       "      <td>TCRBJ02-01*01</td>\n",
       "      <td>72</td>\n",
       "      <td>Male</td>\n",
       "      <td>False</td>\n",
       "      <td>False</td>\n",
       "      <td>1948</td>\n",
       "      <td>ab neg</td>\n",
       "      <td>NEG</td>\n",
       "      <td>26.0</td>\n",
       "      <td>not hispanic/latino</td>\n",
       "      <td>1.778</td>\n",
       "      <td>True</td>\n",
       "      <td>95.24</td>\n",
       "      <td>Caucasian</td>\n",
       "    </tr>\n",
       "    <tr>\n",
       "      <th>1</th>\n",
       "      <td>6232BW_TCRB</td>\n",
       "      <td>0.005639</td>\n",
       "      <td>3037</td>\n",
       "      <td>CASRVGSSYNEQFF</td>\n",
       "      <td>ATCCAGCCCTCAGAACCCAGGGACTCAGCTGTGTACTTCTGTGCCA...</td>\n",
       "      <td>TCRBV12</td>\n",
       "      <td>TCRBD02-01*02</td>\n",
       "      <td>TCRBJ02-01*01</td>\n",
       "      <td>72</td>\n",
       "      <td>Male</td>\n",
       "      <td>False</td>\n",
       "      <td>False</td>\n",
       "      <td>1948</td>\n",
       "      <td>ab neg</td>\n",
       "      <td>NEG</td>\n",
       "      <td>26.0</td>\n",
       "      <td>not hispanic/latino</td>\n",
       "      <td>1.778</td>\n",
       "      <td>True</td>\n",
       "      <td>95.24</td>\n",
       "      <td>Caucasian</td>\n",
       "    </tr>\n",
       "    <tr>\n",
       "      <th>2</th>\n",
       "      <td>6232BW_TCRB</td>\n",
       "      <td>0.004258</td>\n",
       "      <td>2293</td>\n",
       "      <td>CASNPYRVNTGELFF</td>\n",
       "      <td>GAGTCGCCCAGCCCCAACCAGACCTCTCTGTACTTCTGTGCCAGCA...</td>\n",
       "      <td>TCRBV27-01*01</td>\n",
       "      <td>TCRBD02-01*02</td>\n",
       "      <td>TCRBJ02-02*01</td>\n",
       "      <td>72</td>\n",
       "      <td>Male</td>\n",
       "      <td>False</td>\n",
       "      <td>False</td>\n",
       "      <td>1948</td>\n",
       "      <td>ab neg</td>\n",
       "      <td>NEG</td>\n",
       "      <td>26.0</td>\n",
       "      <td>not hispanic/latino</td>\n",
       "      <td>1.778</td>\n",
       "      <td>True</td>\n",
       "      <td>95.24</td>\n",
       "      <td>Caucasian</td>\n",
       "    </tr>\n",
       "    <tr>\n",
       "      <th>3</th>\n",
       "      <td>6232BW_TCRB</td>\n",
       "      <td>0.003639</td>\n",
       "      <td>1960</td>\n",
       "      <td>CASSALRSSYNEQFF</td>\n",
       "      <td>CAGCCCTCAGAACCCAGGGACTCAGCTGTGTACTTCTGTGCCAGCT...</td>\n",
       "      <td>TCRBV12</td>\n",
       "      <td>unknown</td>\n",
       "      <td>TCRBJ02-01*01</td>\n",
       "      <td>72</td>\n",
       "      <td>Male</td>\n",
       "      <td>False</td>\n",
       "      <td>False</td>\n",
       "      <td>1948</td>\n",
       "      <td>ab neg</td>\n",
       "      <td>NEG</td>\n",
       "      <td>26.0</td>\n",
       "      <td>not hispanic/latino</td>\n",
       "      <td>1.778</td>\n",
       "      <td>True</td>\n",
       "      <td>95.24</td>\n",
       "      <td>Caucasian</td>\n",
       "    </tr>\n",
       "    <tr>\n",
       "      <th>4</th>\n",
       "      <td>6232BW_TCRB</td>\n",
       "      <td>0.003521</td>\n",
       "      <td>1896</td>\n",
       "      <td>CASSFEDEGGETQYF</td>\n",
       "      <td>AACGCCTTGTTGCTGGGGGACTCGGCCCTCTATCTCTGTGCCAGCA...</td>\n",
       "      <td>TCRBV05-06*01</td>\n",
       "      <td>unknown</td>\n",
       "      <td>TCRBJ02-05*01</td>\n",
       "      <td>72</td>\n",
       "      <td>Male</td>\n",
       "      <td>False</td>\n",
       "      <td>False</td>\n",
       "      <td>1948</td>\n",
       "      <td>ab neg</td>\n",
       "      <td>NEG</td>\n",
       "      <td>26.0</td>\n",
       "      <td>not hispanic/latino</td>\n",
       "      <td>1.778</td>\n",
       "      <td>True</td>\n",
       "      <td>95.24</td>\n",
       "      <td>Caucasian</td>\n",
       "    </tr>\n",
       "    <tr>\n",
       "      <th>...</th>\n",
       "      <td>...</td>\n",
       "      <td>...</td>\n",
       "      <td>...</td>\n",
       "      <td>...</td>\n",
       "      <td>...</td>\n",
       "      <td>...</td>\n",
       "      <td>...</td>\n",
       "      <td>...</td>\n",
       "      <td>...</td>\n",
       "      <td>...</td>\n",
       "      <td>...</td>\n",
       "      <td>...</td>\n",
       "      <td>...</td>\n",
       "      <td>...</td>\n",
       "      <td>...</td>\n",
       "      <td>...</td>\n",
       "      <td>...</td>\n",
       "      <td>...</td>\n",
       "      <td>...</td>\n",
       "      <td>...</td>\n",
       "      <td>...</td>\n",
       "    </tr>\n",
       "    <tr>\n",
       "      <th>15061643</th>\n",
       "      <td>1566265BW_TCRB</td>\n",
       "      <td>0.000001</td>\n",
       "      <td>1</td>\n",
       "      <td>CSVEDLRGGYTF</td>\n",
       "      <td>CTGACTGTGAGCAACATGAGCCCTGAAGACAGCAGCATATATCTCT...</td>\n",
       "      <td>TCRBV29-01</td>\n",
       "      <td>unknown</td>\n",
       "      <td>TCRBJ01-02*01</td>\n",
       "      <td>33</td>\n",
       "      <td>Female</td>\n",
       "      <td>False</td>\n",
       "      <td>False</td>\n",
       "      <td>1987</td>\n",
       "      <td>NaN</td>\n",
       "      <td>NaN</td>\n",
       "      <td>51.0</td>\n",
       "      <td>not hispanic/latino</td>\n",
       "      <td>1.676</td>\n",
       "      <td>False</td>\n",
       "      <td>72.56</td>\n",
       "      <td>Caucasian</td>\n",
       "    </tr>\n",
       "    <tr>\n",
       "      <th>15061644</th>\n",
       "      <td>1566265BW_TCRB</td>\n",
       "      <td>0.000001</td>\n",
       "      <td>1</td>\n",
       "      <td>CASGRRGDYGYTF</td>\n",
       "      <td>AAGATCCAGCCCTCAGAACCCAGGGACTCAGCTGTGTACTTCTGTG...</td>\n",
       "      <td>TCRBV12-03/12-04*01</td>\n",
       "      <td>unknown</td>\n",
       "      <td>TCRBJ01-02*01</td>\n",
       "      <td>33</td>\n",
       "      <td>Female</td>\n",
       "      <td>False</td>\n",
       "      <td>False</td>\n",
       "      <td>1987</td>\n",
       "      <td>NaN</td>\n",
       "      <td>NaN</td>\n",
       "      <td>51.0</td>\n",
       "      <td>not hispanic/latino</td>\n",
       "      <td>1.676</td>\n",
       "      <td>False</td>\n",
       "      <td>72.56</td>\n",
       "      <td>Caucasian</td>\n",
       "    </tr>\n",
       "    <tr>\n",
       "      <th>15061645</th>\n",
       "      <td>1566265BW_TCRB</td>\n",
       "      <td>0.000001</td>\n",
       "      <td>1</td>\n",
       "      <td>CASSWTGNSPLHF</td>\n",
       "      <td>AAGATCCAGCCCTCAGAACCCAGGGACTCAGCTGTGTACTTCTGTG...</td>\n",
       "      <td>TCRBV12-03/12-04*01</td>\n",
       "      <td>TCRBD02-01</td>\n",
       "      <td>TCRBJ01-06*02</td>\n",
       "      <td>33</td>\n",
       "      <td>Female</td>\n",
       "      <td>False</td>\n",
       "      <td>False</td>\n",
       "      <td>1987</td>\n",
       "      <td>NaN</td>\n",
       "      <td>NaN</td>\n",
       "      <td>51.0</td>\n",
       "      <td>not hispanic/latino</td>\n",
       "      <td>1.676</td>\n",
       "      <td>False</td>\n",
       "      <td>72.56</td>\n",
       "      <td>Caucasian</td>\n",
       "    </tr>\n",
       "    <tr>\n",
       "      <th>15061646</th>\n",
       "      <td>1566265BW_TCRB</td>\n",
       "      <td>0.000001</td>\n",
       "      <td>1</td>\n",
       "      <td>CASSLDWTEYYEQYF</td>\n",
       "      <td>CAGCCTGCAAAGCTTGAGGACTCGGCCGTGTATCTCTGTGCCAGCA...</td>\n",
       "      <td>TCRBV11-02*01</td>\n",
       "      <td>TCRBD01-01*01</td>\n",
       "      <td>TCRBJ02-07*01</td>\n",
       "      <td>33</td>\n",
       "      <td>Female</td>\n",
       "      <td>False</td>\n",
       "      <td>False</td>\n",
       "      <td>1987</td>\n",
       "      <td>NaN</td>\n",
       "      <td>NaN</td>\n",
       "      <td>51.0</td>\n",
       "      <td>not hispanic/latino</td>\n",
       "      <td>1.676</td>\n",
       "      <td>False</td>\n",
       "      <td>72.56</td>\n",
       "      <td>Caucasian</td>\n",
       "    </tr>\n",
       "    <tr>\n",
       "      <th>15061647</th>\n",
       "      <td>1566265BW_TCRB</td>\n",
       "      <td>0.000001</td>\n",
       "      <td>1</td>\n",
       "      <td>CASSSSGASEQYF</td>\n",
       "      <td>AAGATCCAGCCCTCAGAACCCAGGGACTCAGCTGTGTACTTCTGTG...</td>\n",
       "      <td>TCRBV12-03/12-04*01</td>\n",
       "      <td>TCRBD02-01*01</td>\n",
       "      <td>TCRBJ02-07*01</td>\n",
       "      <td>33</td>\n",
       "      <td>Female</td>\n",
       "      <td>False</td>\n",
       "      <td>False</td>\n",
       "      <td>1987</td>\n",
       "      <td>NaN</td>\n",
       "      <td>NaN</td>\n",
       "      <td>51.0</td>\n",
       "      <td>not hispanic/latino</td>\n",
       "      <td>1.676</td>\n",
       "      <td>False</td>\n",
       "      <td>72.56</td>\n",
       "      <td>Caucasian</td>\n",
       "    </tr>\n",
       "  </tbody>\n",
       "</table>\n",
       "<p>15061648 rows × 21 columns</p>\n",
       "</div>"
      ],
      "text/plain": [
       "                  sample  frequency  ...  weight_kg       race\n",
       "0            6232BW_TCRB   0.006751  ...      95.24  Caucasian\n",
       "1            6232BW_TCRB   0.005639  ...      95.24  Caucasian\n",
       "2            6232BW_TCRB   0.004258  ...      95.24  Caucasian\n",
       "3            6232BW_TCRB   0.003639  ...      95.24  Caucasian\n",
       "4            6232BW_TCRB   0.003521  ...      95.24  Caucasian\n",
       "...                  ...        ...  ...        ...        ...\n",
       "15061643  1566265BW_TCRB   0.000001  ...      72.56  Caucasian\n",
       "15061644  1566265BW_TCRB   0.000001  ...      72.56  Caucasian\n",
       "15061645  1566265BW_TCRB   0.000001  ...      72.56  Caucasian\n",
       "15061646  1566265BW_TCRB   0.000001  ...      72.56  Caucasian\n",
       "15061647  1566265BW_TCRB   0.000001  ...      72.56  Caucasian\n",
       "\n",
       "[15061648 rows x 21 columns]"
      ]
     },
     "execution_count": 3,
     "metadata": {
      "tags": []
     },
     "output_type": "execute_result"
    }
   ],
   "source": [
    "#change the file name (\"complete_COVID_samples.tsv\") to your file name to load the data\n",
    "df=pd.read_table('/content/drive/MyDrive/complete_COVID_samples.tsv',low_memory=False)\n",
    "df"
   ]
  },
  {
   "cell_type": "markdown",
   "metadata": {
    "id": "yI8bZ-mdkK7X"
   },
   "source": [
    "Step 2 - Option 2 - Upload data file from local computer"
   ]
  },
  {
   "cell_type": "code",
   "execution_count": null,
   "metadata": {
    "colab": {
     "base_uri": "https://localhost:8080/",
     "height": 38,
     "resources": {
      "http://localhost:8080/nbextensions/google.colab/files.js": {
       "data": "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",
       "headers": [
        [
         "content-type",
         "application/javascript"
        ]
       ],
       "ok": true,
       "status": 200,
       "status_text": ""
      }
     }
    },
    "executionInfo": {
     "elapsed": 10938,
     "status": "ok",
     "timestamp": 1607481040092,
     "user": {
      "displayName": "Kerui Peng",
      "photoUrl": "https://lh3.googleusercontent.com/a-/AOh14GhCFbNNQavDfyVFYGThBoWptUPcEdIkBKjW1JK6=s64",
      "userId": "00454648627764987552"
     },
     "user_tz": 480
    },
    "id": "ceYzbzuf1QjZ",
    "outputId": "fdb6f16c-55db-4b05-a5e6-4605f2d069a1"
   },
   "outputs": [
    {
     "data": {
      "text/html": [
       "\n",
       "     <input type=\"file\" id=\"files-ee199778-84d6-4d72-b418-065931d2250c\" name=\"files[]\" multiple disabled\n",
       "        style=\"border:none\" />\n",
       "     <output id=\"result-ee199778-84d6-4d72-b418-065931d2250c\">\n",
       "      Upload widget is only available when the cell has been executed in the\n",
       "      current browser session. Please rerun this cell to enable.\n",
       "      </output>\n",
       "      <script src=\"/nbextensions/google.colab/files.js\"></script> "
      ],
      "text/plain": [
       "<IPython.core.display.HTML object>"
      ]
     },
     "metadata": {
      "tags": []
     },
     "output_type": "display_data"
    }
   ],
   "source": [
    "from google.colab import files \n",
    "uploaded = files.upload()"
   ]
  },
  {
   "cell_type": "code",
   "execution_count": null,
   "metadata": {
    "id": "6HY9XeUMia-P"
   },
   "outputs": [],
   "source": [
    "import io\n",
    "\n",
    "#change the file name (\"complete_COVID_samples.tsv\") to your file name to load the data\n",
    "df = pd.read_table(io.BytesIO(uploaded['complete_COVID_samples.tsv']), sep = '\\t')\n",
    "df"
   ]
  },
  {
   "cell_type": "markdown",
   "metadata": {
    "id": "PCKeHShanIEs"
   },
   "source": [
    "Step 2 - Option 3 - Run the notebook locally (refer here for how to connect to local runtime https://research.google.com/colaboratory/local-runtimes.html)"
   ]
  },
  {
   "cell_type": "code",
   "execution_count": null,
   "metadata": {
    "id": "bc0oAme2n-S8"
   },
   "outputs": [],
   "source": [
    "#change the file name (\"complete_COVID_samples.tsv\") to your file name to load the data\n",
    "df = pd.read_table('downloads/covid_data/complete_COVID_samples.tsv', sep = '\\t')\n",
    "df"
   ]
  },
  {
   "cell_type": "markdown",
   "metadata": {
    "id": "rMTBpsHfIFZU"
   },
   "source": [
    "Step 3 - Create the standardized format (column content and column names)\n",
    "1.   Sample name (sample)\n",
    "2.   Clone frequency (freq)\n",
    "3.   Clone reads count (#count)\n",
    "4.   CDR3 amino acid clonotype (cdr3aa)\n",
    "5.   CDR3 nucleotide (cdr3nt)\n",
    "6.   V gene (v)\n",
    "7.   D gene (d)\n",
    "8.   J gene (j)\n",
    "9.   Optional - Sample feature (here we use hospitalization as the clinical feature)"
   ]
  },
  {
   "cell_type": "code",
   "execution_count": null,
   "metadata": {
    "colab": {
     "base_uri": "https://localhost:8080/",
     "height": 660
    },
    "executionInfo": {
     "elapsed": 1811,
     "status": "ok",
     "timestamp": 1611884482187,
     "user": {
      "displayName": "Kerui Peng",
      "photoUrl": "https://lh3.googleusercontent.com/a-/AOh14GhCFbNNQavDfyVFYGThBoWptUPcEdIkBKjW1JK6=s64",
      "userId": "00454648627764987552"
     },
     "user_tz": 480
    },
    "id": "4GemUh8LjMIO",
    "outputId": "eb7291cb-cb05-4aa4-a792-c5ce05600b5d"
   },
   "outputs": [
    {
     "data": {
      "text/html": [
       "<div>\n",
       "<style scoped>\n",
       "    .dataframe tbody tr th:only-of-type {\n",
       "        vertical-align: middle;\n",
       "    }\n",
       "\n",
       "    .dataframe tbody tr th {\n",
       "        vertical-align: top;\n",
       "    }\n",
       "\n",
       "    .dataframe thead th {\n",
       "        text-align: right;\n",
       "    }\n",
       "</style>\n",
       "<table border=\"1\" class=\"dataframe\">\n",
       "  <thead>\n",
       "    <tr style=\"text-align: right;\">\n",
       "      <th></th>\n",
       "      <th>sample</th>\n",
       "      <th>freq</th>\n",
       "      <th>#count</th>\n",
       "      <th>cdr3aa</th>\n",
       "      <th>cdr3nt</th>\n",
       "      <th>v</th>\n",
       "      <th>d</th>\n",
       "      <th>j</th>\n",
       "      <th>hospitalization</th>\n",
       "    </tr>\n",
       "  </thead>\n",
       "  <tbody>\n",
       "    <tr>\n",
       "      <th>0</th>\n",
       "      <td>6232BW_TCRB</td>\n",
       "      <td>0.006751</td>\n",
       "      <td>3636</td>\n",
       "      <td>CASSLGLAGPGFF</td>\n",
       "      <td>ACGATCCAGCGCACAGAGCAGGAGGACTCGGCCGTGTATCTCTGTG...</td>\n",
       "      <td>TCRBV07-02</td>\n",
       "      <td>TCRBD02-01*02</td>\n",
       "      <td>TCRBJ02-01*01</td>\n",
       "      <td>True</td>\n",
       "    </tr>\n",
       "    <tr>\n",
       "      <th>1</th>\n",
       "      <td>6232BW_TCRB</td>\n",
       "      <td>0.005639</td>\n",
       "      <td>3037</td>\n",
       "      <td>CASRVGSSYNEQFF</td>\n",
       "      <td>ATCCAGCCCTCAGAACCCAGGGACTCAGCTGTGTACTTCTGTGCCA...</td>\n",
       "      <td>TCRBV12</td>\n",
       "      <td>TCRBD02-01*02</td>\n",
       "      <td>TCRBJ02-01*01</td>\n",
       "      <td>True</td>\n",
       "    </tr>\n",
       "    <tr>\n",
       "      <th>2</th>\n",
       "      <td>6232BW_TCRB</td>\n",
       "      <td>0.004258</td>\n",
       "      <td>2293</td>\n",
       "      <td>CASNPYRVNTGELFF</td>\n",
       "      <td>GAGTCGCCCAGCCCCAACCAGACCTCTCTGTACTTCTGTGCCAGCA...</td>\n",
       "      <td>TCRBV27-01*01</td>\n",
       "      <td>TCRBD02-01*02</td>\n",
       "      <td>TCRBJ02-02*01</td>\n",
       "      <td>True</td>\n",
       "    </tr>\n",
       "    <tr>\n",
       "      <th>3</th>\n",
       "      <td>6232BW_TCRB</td>\n",
       "      <td>0.003639</td>\n",
       "      <td>1960</td>\n",
       "      <td>CASSALRSSYNEQFF</td>\n",
       "      <td>CAGCCCTCAGAACCCAGGGACTCAGCTGTGTACTTCTGTGCCAGCT...</td>\n",
       "      <td>TCRBV12</td>\n",
       "      <td>unknown</td>\n",
       "      <td>TCRBJ02-01*01</td>\n",
       "      <td>True</td>\n",
       "    </tr>\n",
       "    <tr>\n",
       "      <th>4</th>\n",
       "      <td>6232BW_TCRB</td>\n",
       "      <td>0.003521</td>\n",
       "      <td>1896</td>\n",
       "      <td>CASSFEDEGGETQYF</td>\n",
       "      <td>AACGCCTTGTTGCTGGGGGACTCGGCCCTCTATCTCTGTGCCAGCA...</td>\n",
       "      <td>TCRBV05-06*01</td>\n",
       "      <td>unknown</td>\n",
       "      <td>TCRBJ02-05*01</td>\n",
       "      <td>True</td>\n",
       "    </tr>\n",
       "    <tr>\n",
       "      <th>...</th>\n",
       "      <td>...</td>\n",
       "      <td>...</td>\n",
       "      <td>...</td>\n",
       "      <td>...</td>\n",
       "      <td>...</td>\n",
       "      <td>...</td>\n",
       "      <td>...</td>\n",
       "      <td>...</td>\n",
       "      <td>...</td>\n",
       "    </tr>\n",
       "    <tr>\n",
       "      <th>15061643</th>\n",
       "      <td>1566265BW_TCRB</td>\n",
       "      <td>0.000001</td>\n",
       "      <td>1</td>\n",
       "      <td>CSVEDLRGGYTF</td>\n",
       "      <td>CTGACTGTGAGCAACATGAGCCCTGAAGACAGCAGCATATATCTCT...</td>\n",
       "      <td>TCRBV29-01</td>\n",
       "      <td>unknown</td>\n",
       "      <td>TCRBJ01-02*01</td>\n",
       "      <td>False</td>\n",
       "    </tr>\n",
       "    <tr>\n",
       "      <th>15061644</th>\n",
       "      <td>1566265BW_TCRB</td>\n",
       "      <td>0.000001</td>\n",
       "      <td>1</td>\n",
       "      <td>CASGRRGDYGYTF</td>\n",
       "      <td>AAGATCCAGCCCTCAGAACCCAGGGACTCAGCTGTGTACTTCTGTG...</td>\n",
       "      <td>TCRBV12-03/12-04*01</td>\n",
       "      <td>unknown</td>\n",
       "      <td>TCRBJ01-02*01</td>\n",
       "      <td>False</td>\n",
       "    </tr>\n",
       "    <tr>\n",
       "      <th>15061645</th>\n",
       "      <td>1566265BW_TCRB</td>\n",
       "      <td>0.000001</td>\n",
       "      <td>1</td>\n",
       "      <td>CASSWTGNSPLHF</td>\n",
       "      <td>AAGATCCAGCCCTCAGAACCCAGGGACTCAGCTGTGTACTTCTGTG...</td>\n",
       "      <td>TCRBV12-03/12-04*01</td>\n",
       "      <td>TCRBD02-01</td>\n",
       "      <td>TCRBJ01-06*02</td>\n",
       "      <td>False</td>\n",
       "    </tr>\n",
       "    <tr>\n",
       "      <th>15061646</th>\n",
       "      <td>1566265BW_TCRB</td>\n",
       "      <td>0.000001</td>\n",
       "      <td>1</td>\n",
       "      <td>CASSLDWTEYYEQYF</td>\n",
       "      <td>CAGCCTGCAAAGCTTGAGGACTCGGCCGTGTATCTCTGTGCCAGCA...</td>\n",
       "      <td>TCRBV11-02*01</td>\n",
       "      <td>TCRBD01-01*01</td>\n",
       "      <td>TCRBJ02-07*01</td>\n",
       "      <td>False</td>\n",
       "    </tr>\n",
       "    <tr>\n",
       "      <th>15061647</th>\n",
       "      <td>1566265BW_TCRB</td>\n",
       "      <td>0.000001</td>\n",
       "      <td>1</td>\n",
       "      <td>CASSSSGASEQYF</td>\n",
       "      <td>AAGATCCAGCCCTCAGAACCCAGGGACTCAGCTGTGTACTTCTGTG...</td>\n",
       "      <td>TCRBV12-03/12-04*01</td>\n",
       "      <td>TCRBD02-01*01</td>\n",
       "      <td>TCRBJ02-07*01</td>\n",
       "      <td>False</td>\n",
       "    </tr>\n",
       "  </tbody>\n",
       "</table>\n",
       "<p>15061648 rows × 9 columns</p>\n",
       "</div>"
      ],
      "text/plain": [
       "                  sample      freq  ...              j hospitalization\n",
       "0            6232BW_TCRB  0.006751  ...  TCRBJ02-01*01            True\n",
       "1            6232BW_TCRB  0.005639  ...  TCRBJ02-01*01            True\n",
       "2            6232BW_TCRB  0.004258  ...  TCRBJ02-02*01            True\n",
       "3            6232BW_TCRB  0.003639  ...  TCRBJ02-01*01            True\n",
       "4            6232BW_TCRB  0.003521  ...  TCRBJ02-05*01            True\n",
       "...                  ...       ...  ...            ...             ...\n",
       "15061643  1566265BW_TCRB  0.000001  ...  TCRBJ01-02*01           False\n",
       "15061644  1566265BW_TCRB  0.000001  ...  TCRBJ01-02*01           False\n",
       "15061645  1566265BW_TCRB  0.000001  ...  TCRBJ01-06*02           False\n",
       "15061646  1566265BW_TCRB  0.000001  ...  TCRBJ02-07*01           False\n",
       "15061647  1566265BW_TCRB  0.000001  ...  TCRBJ02-07*01           False\n",
       "\n",
       "[15061648 rows x 9 columns]"
      ]
     },
     "execution_count": 4,
     "metadata": {
      "tags": []
     },
     "output_type": "execute_result"
    }
   ],
   "source": [
    "#select the columns that are listed above\n",
    "df = df[['sample','frequency', 'templates', 'amino_acid', 'rearrangement', 'v_resolved', 'd_resolved','j_resolved','hospitalized']]\n",
    "#rename the columns \n",
    "df.columns = ['sample', 'freq' , '#count' , 'cdr3aa' , 'cdr3nt' , 'v' , 'd' , 'j' , 'hospitalization']\n",
    "df"
   ]
  },
  {
   "cell_type": "markdown",
   "metadata": {
    "id": "nn8S6r1alaeT"
   },
   "source": [
    "Basic analysis 1 - Reads count"
   ]
  },
  {
   "cell_type": "code",
   "execution_count": null,
   "metadata": {
    "id": "S4avhaf0lXhB"
   },
   "outputs": [],
   "source": [
    "df_count = df.groupby(['sample','hospitalization']).agg({'#count':'sum'}).reset_index().rename(columns={'#count':\"reads_count\"})"
   ]
  },
  {
   "cell_type": "markdown",
   "metadata": {
    "id": "Y_lMtGpmlf6D"
   },
   "source": [
    "Basic analysis 2 - Clonotype count"
   ]
  },
  {
   "cell_type": "code",
   "execution_count": null,
   "metadata": {
    "id": "gzuXLx7llfWv"
   },
   "outputs": [],
   "source": [
    "df_diversity = df.groupby(['sample','hospitalization'], sort=False).size().reset_index(name='clonotype_count')"
   ]
  },
  {
   "cell_type": "markdown",
   "metadata": {
    "id": "OMFp8fAEllby"
   },
   "source": [
    "Basic analysis 3 - Mean frequency"
   ]
  },
  {
   "cell_type": "code",
   "execution_count": null,
   "metadata": {
    "id": "5NABUAL1lmtl"
   },
   "outputs": [],
   "source": [
    "df_mean_frequency = df.groupby(['sample','hospitalization']).agg({'freq':'mean'}).reset_index().rename(columns={'freq':\"mean_frequency\"})"
   ]
  },
  {
   "cell_type": "markdown",
   "metadata": {
    "id": "LdLwAnwmlpaH"
   },
   "source": [
    "Basic analysis 4 - Geometric mean of clonotype frequency"
   ]
  },
  {
   "cell_type": "code",
   "execution_count": null,
   "metadata": {
    "id": "SHODlDFaluHx"
   },
   "outputs": [],
   "source": [
    "from scipy.stats.mstats import gmean\n",
    "samples = df['sample'].unique()\n",
    "\n",
    "#create an empty dataframe for storing results\n",
    "df_geomean_frequency = pd.DataFrame(columns = ['sample','geomean_frequency'])\n",
    "\n",
    "for sample in samples:\n",
    "    tmp = df[df['sample'] == sample]\n",
    "    geomean_frequency = gmean(tmp['freq'])\n",
    "\n",
    "    #store the results\n",
    "    df_temp = pd.DataFrame(data={'sample':sample, 'geomean_frequency':geomean_frequency}, columns=['sample','geomean_frequency'],index=[0])\n",
    "    df_geomean_frequency = pd.concat([df_geomean_frequency,df_temp])"
   ]
  },
  {
   "cell_type": "markdown",
   "metadata": {
    "id": "ZXWqVleAlyEl"
   },
   "source": [
    "Basic analysis 5 - Mean length of CDR3 nucleotide sequence"
   ]
  },
  {
   "cell_type": "code",
   "execution_count": null,
   "metadata": {
    "colab": {
     "base_uri": "https://localhost:8080/"
    },
    "executionInfo": {
     "elapsed": 6797,
     "status": "ok",
     "timestamp": 1611887919934,
     "user": {
      "displayName": "Kerui Peng",
      "photoUrl": "https://lh3.googleusercontent.com/a-/AOh14GhCFbNNQavDfyVFYGThBoWptUPcEdIkBKjW1JK6=s64",
      "userId": "00454648627764987552"
     },
     "user_tz": 480
    },
    "id": "lKVw3Fapl08J",
    "outputId": "f3a9b083-f756-4692-9af7-9abd2ce25bd1"
   },
   "outputs": [
    {
     "name": "stderr",
     "output_type": "stream",
     "text": [
      "/usr/local/lib/python3.6/dist-packages/ipykernel_launcher.py:1: SettingWithCopyWarning: \n",
      "A value is trying to be set on a copy of a slice from a DataFrame.\n",
      "Try using .loc[row_indexer,col_indexer] = value instead\n",
      "\n",
      "See the caveats in the documentation: https://pandas.pydata.org/pandas-docs/stable/user_guide/indexing.html#returning-a-view-versus-a-copy\n",
      "  \"\"\"Entry point for launching an IPython kernel.\n"
     ]
    }
   ],
   "source": [
    "df['length_weighted'] = df['cdr3nt'].str.len()*df['freq']\n",
    "df_mean_cdr3nt_length = df.groupby(['sample','hospitalization']).agg({'length_weighted':'sum'}).reset_index().rename(columns={'length_weighted':\"mean_cdr3nt_length\"})"
   ]
  },
  {
   "cell_type": "markdown",
   "metadata": {
    "id": "-ay8V7lPl3D3"
   },
   "source": [
    "Basic analysis 6 - Convergence"
   ]
  },
  {
   "cell_type": "code",
   "execution_count": null,
   "metadata": {
    "id": "8Auvp2sjl5U4"
   },
   "outputs": [],
   "source": [
    "#count unique CDR3\n",
    "df_unique_CDR3=df.groupby(['cdr3aa','sample','hospitalization'], as_index=False)['cdr3nt'].agg({'count':'count'})\n",
    "\n",
    "#calculate the mean of the unique CDR3 count in each sample\n",
    "df_unique_CDR3_mean = df_unique_CDR3.groupby(['sample','hospitalization']).agg({'count':'mean'}).reset_index().rename(columns={'count':\"convergence\"})"
   ]
  },
  {
   "cell_type": "markdown",
   "metadata": {
    "id": "afalgVOorZHy"
   },
   "source": [
    "Basic analysis 7.1 - Spectratype"
   ]
  },
  {
   "cell_type": "code",
   "execution_count": null,
   "metadata": {
    "colab": {
     "base_uri": "https://localhost:8080/",
     "height": 1000
    },
    "executionInfo": {
     "elapsed": 6884,
     "status": "ok",
     "timestamp": 1611887990788,
     "user": {
      "displayName": "Kerui Peng",
      "photoUrl": "https://lh3.googleusercontent.com/a-/AOh14GhCFbNNQavDfyVFYGThBoWptUPcEdIkBKjW1JK6=s64",
      "userId": "00454648627764987552"
     },
     "user_tz": 480
    },
    "id": "-ueujuB2rbOS",
    "outputId": "b0c28c7a-8ace-489c-8088-4e9f7064d524"
   },
   "outputs": [
    {
     "name": "stderr",
     "output_type": "stream",
     "text": [
      "/usr/local/lib/python3.6/dist-packages/ipykernel_launcher.py:2: SettingWithCopyWarning: \n",
      "A value is trying to be set on a copy of a slice from a DataFrame.\n",
      "Try using .loc[row_indexer,col_indexer] = value instead\n",
      "\n",
      "See the caveats in the documentation: https://pandas.pydata.org/pandas-docs/stable/user_guide/indexing.html#returning-a-view-versus-a-copy\n",
      "  \n"
     ]
    },
    {
     "data": {
      "text/html": [
       "<div>\n",
       "<style scoped>\n",
       "    .dataframe tbody tr th:only-of-type {\n",
       "        vertical-align: middle;\n",
       "    }\n",
       "\n",
       "    .dataframe tbody tr th {\n",
       "        vertical-align: top;\n",
       "    }\n",
       "\n",
       "    .dataframe thead th {\n",
       "        text-align: right;\n",
       "    }\n",
       "</style>\n",
       "<table border=\"1\" class=\"dataframe\">\n",
       "  <thead>\n",
       "    <tr style=\"text-align: right;\">\n",
       "      <th></th>\n",
       "      <th>sample</th>\n",
       "      <th>nt_length</th>\n",
       "      <th>hospitalization</th>\n",
       "      <th>spectratype</th>\n",
       "    </tr>\n",
       "  </thead>\n",
       "  <tbody>\n",
       "    <tr>\n",
       "      <th>0</th>\n",
       "      <td>1132289BW_TCRB</td>\n",
       "      <td>87</td>\n",
       "      <td>False</td>\n",
       "      <td>0.818960</td>\n",
       "    </tr>\n",
       "    <tr>\n",
       "      <th>1</th>\n",
       "      <td>1222568BW_TCRB</td>\n",
       "      <td>87</td>\n",
       "      <td>False</td>\n",
       "      <td>0.795735</td>\n",
       "    </tr>\n",
       "    <tr>\n",
       "      <th>2</th>\n",
       "      <td>1337122BW_TCRB</td>\n",
       "      <td>87</td>\n",
       "      <td>False</td>\n",
       "      <td>0.864044</td>\n",
       "    </tr>\n",
       "    <tr>\n",
       "      <th>3</th>\n",
       "      <td>1445BW_TCRB</td>\n",
       "      <td>87</td>\n",
       "      <td>False</td>\n",
       "      <td>0.845533</td>\n",
       "    </tr>\n",
       "    <tr>\n",
       "      <th>4</th>\n",
       "      <td>1564208BW_TCRB</td>\n",
       "      <td>87</td>\n",
       "      <td>False</td>\n",
       "      <td>0.814635</td>\n",
       "    </tr>\n",
       "    <tr>\n",
       "      <th>5</th>\n",
       "      <td>1566265BW_TCRB</td>\n",
       "      <td>87</td>\n",
       "      <td>False</td>\n",
       "      <td>0.828020</td>\n",
       "    </tr>\n",
       "    <tr>\n",
       "      <th>6</th>\n",
       "      <td>1566319BW_TCRB</td>\n",
       "      <td>87</td>\n",
       "      <td>False</td>\n",
       "      <td>0.819268</td>\n",
       "    </tr>\n",
       "    <tr>\n",
       "      <th>7</th>\n",
       "      <td>1566426BW_TCRB</td>\n",
       "      <td>87</td>\n",
       "      <td>False</td>\n",
       "      <td>0.834573</td>\n",
       "    </tr>\n",
       "    <tr>\n",
       "      <th>8</th>\n",
       "      <td>1566449BW_TCRB</td>\n",
       "      <td>87</td>\n",
       "      <td>False</td>\n",
       "      <td>0.793647</td>\n",
       "    </tr>\n",
       "    <tr>\n",
       "      <th>9</th>\n",
       "      <td>1566486BW_TCRB</td>\n",
       "      <td>87</td>\n",
       "      <td>False</td>\n",
       "      <td>0.798625</td>\n",
       "    </tr>\n",
       "    <tr>\n",
       "      <th>10</th>\n",
       "      <td>1566510BW_TCRB</td>\n",
       "      <td>87</td>\n",
       "      <td>False</td>\n",
       "      <td>0.824400</td>\n",
       "    </tr>\n",
       "    <tr>\n",
       "      <th>11</th>\n",
       "      <td>1566512BW_TCRB</td>\n",
       "      <td>87</td>\n",
       "      <td>False</td>\n",
       "      <td>0.829975</td>\n",
       "    </tr>\n",
       "    <tr>\n",
       "      <th>12</th>\n",
       "      <td>1566515BW_TCRB</td>\n",
       "      <td>87</td>\n",
       "      <td>False</td>\n",
       "      <td>0.837420</td>\n",
       "    </tr>\n",
       "    <tr>\n",
       "      <th>13</th>\n",
       "      <td>1566622BW_TCRB</td>\n",
       "      <td>87</td>\n",
       "      <td>False</td>\n",
       "      <td>0.817712</td>\n",
       "    </tr>\n",
       "    <tr>\n",
       "      <th>14</th>\n",
       "      <td>1566779BW_TCRB</td>\n",
       "      <td>87</td>\n",
       "      <td>False</td>\n",
       "      <td>0.767958</td>\n",
       "    </tr>\n",
       "    <tr>\n",
       "      <th>15</th>\n",
       "      <td>1566837BW_TCRB</td>\n",
       "      <td>87</td>\n",
       "      <td>False</td>\n",
       "      <td>0.818190</td>\n",
       "    </tr>\n",
       "    <tr>\n",
       "      <th>16</th>\n",
       "      <td>1566889BW_TCRB</td>\n",
       "      <td>87</td>\n",
       "      <td>False</td>\n",
       "      <td>0.882119</td>\n",
       "    </tr>\n",
       "    <tr>\n",
       "      <th>17</th>\n",
       "      <td>1566913BW_TCRB</td>\n",
       "      <td>87</td>\n",
       "      <td>False</td>\n",
       "      <td>0.824282</td>\n",
       "    </tr>\n",
       "    <tr>\n",
       "      <th>18</th>\n",
       "      <td>1566984BW_TCRB</td>\n",
       "      <td>87</td>\n",
       "      <td>False</td>\n",
       "      <td>0.820905</td>\n",
       "    </tr>\n",
       "    <tr>\n",
       "      <th>19</th>\n",
       "      <td>1567127BW_TCRB</td>\n",
       "      <td>87</td>\n",
       "      <td>False</td>\n",
       "      <td>0.820419</td>\n",
       "    </tr>\n",
       "    <tr>\n",
       "      <th>20</th>\n",
       "      <td>1567268BW_TCRB</td>\n",
       "      <td>87</td>\n",
       "      <td>False</td>\n",
       "      <td>0.813375</td>\n",
       "    </tr>\n",
       "    <tr>\n",
       "      <th>21</th>\n",
       "      <td>1568094BW_TCRB</td>\n",
       "      <td>87</td>\n",
       "      <td>True</td>\n",
       "      <td>0.829309</td>\n",
       "    </tr>\n",
       "    <tr>\n",
       "      <th>22</th>\n",
       "      <td>1568100BW_TCRB</td>\n",
       "      <td>87</td>\n",
       "      <td>False</td>\n",
       "      <td>0.788121</td>\n",
       "    </tr>\n",
       "    <tr>\n",
       "      <th>23</th>\n",
       "      <td>1569039BW_TCRB</td>\n",
       "      <td>87</td>\n",
       "      <td>False</td>\n",
       "      <td>0.773272</td>\n",
       "    </tr>\n",
       "    <tr>\n",
       "      <th>24</th>\n",
       "      <td>234129BW_TCRB</td>\n",
       "      <td>87</td>\n",
       "      <td>False</td>\n",
       "      <td>0.789835</td>\n",
       "    </tr>\n",
       "    <tr>\n",
       "      <th>25</th>\n",
       "      <td>2402BW_TCRB</td>\n",
       "      <td>87</td>\n",
       "      <td>False</td>\n",
       "      <td>0.858078</td>\n",
       "    </tr>\n",
       "    <tr>\n",
       "      <th>26</th>\n",
       "      <td>2987BW_TCRB</td>\n",
       "      <td>87</td>\n",
       "      <td>True</td>\n",
       "      <td>0.805301</td>\n",
       "    </tr>\n",
       "    <tr>\n",
       "      <th>27</th>\n",
       "      <td>300412BW_TCRB</td>\n",
       "      <td>87</td>\n",
       "      <td>False</td>\n",
       "      <td>0.826281</td>\n",
       "    </tr>\n",
       "    <tr>\n",
       "      <th>28</th>\n",
       "      <td>3602BW_TCRB</td>\n",
       "      <td>87</td>\n",
       "      <td>False</td>\n",
       "      <td>0.794445</td>\n",
       "    </tr>\n",
       "    <tr>\n",
       "      <th>29</th>\n",
       "      <td>3765BW_TCRB</td>\n",
       "      <td>87</td>\n",
       "      <td>False</td>\n",
       "      <td>0.801759</td>\n",
       "    </tr>\n",
       "    <tr>\n",
       "      <th>30</th>\n",
       "      <td>3943BW_TCRB</td>\n",
       "      <td>87</td>\n",
       "      <td>False</td>\n",
       "      <td>0.826226</td>\n",
       "    </tr>\n",
       "    <tr>\n",
       "      <th>31</th>\n",
       "      <td>3977BW_TCRB</td>\n",
       "      <td>87</td>\n",
       "      <td>False</td>\n",
       "      <td>0.804816</td>\n",
       "    </tr>\n",
       "    <tr>\n",
       "      <th>32</th>\n",
       "      <td>4251BW_TCRB</td>\n",
       "      <td>87</td>\n",
       "      <td>False</td>\n",
       "      <td>0.818760</td>\n",
       "    </tr>\n",
       "    <tr>\n",
       "      <th>33</th>\n",
       "      <td>4730BW_TCRB</td>\n",
       "      <td>87</td>\n",
       "      <td>False</td>\n",
       "      <td>0.801656</td>\n",
       "    </tr>\n",
       "    <tr>\n",
       "      <th>34</th>\n",
       "      <td>476909BW_TCRB</td>\n",
       "      <td>87</td>\n",
       "      <td>False</td>\n",
       "      <td>0.777538</td>\n",
       "    </tr>\n",
       "    <tr>\n",
       "      <th>35</th>\n",
       "      <td>5115BW_TCRB</td>\n",
       "      <td>87</td>\n",
       "      <td>True</td>\n",
       "      <td>0.839412</td>\n",
       "    </tr>\n",
       "    <tr>\n",
       "      <th>36</th>\n",
       "      <td>5386BW_TCRB</td>\n",
       "      <td>87</td>\n",
       "      <td>True</td>\n",
       "      <td>0.810866</td>\n",
       "    </tr>\n",
       "    <tr>\n",
       "      <th>37</th>\n",
       "      <td>585189BW_TCRB</td>\n",
       "      <td>87</td>\n",
       "      <td>False</td>\n",
       "      <td>0.824671</td>\n",
       "    </tr>\n",
       "    <tr>\n",
       "      <th>38</th>\n",
       "      <td>5876BW_TCRB</td>\n",
       "      <td>87</td>\n",
       "      <td>False</td>\n",
       "      <td>0.843933</td>\n",
       "    </tr>\n",
       "    <tr>\n",
       "      <th>39</th>\n",
       "      <td>6232BW_TCRB</td>\n",
       "      <td>87</td>\n",
       "      <td>True</td>\n",
       "      <td>0.816604</td>\n",
       "    </tr>\n",
       "    <tr>\n",
       "      <th>40</th>\n",
       "      <td>681365BW_TCRB</td>\n",
       "      <td>87</td>\n",
       "      <td>False</td>\n",
       "      <td>0.795265</td>\n",
       "    </tr>\n",
       "    <tr>\n",
       "      <th>41</th>\n",
       "      <td>712387BW_TCRB</td>\n",
       "      <td>87</td>\n",
       "      <td>False</td>\n",
       "      <td>0.786349</td>\n",
       "    </tr>\n",
       "    <tr>\n",
       "      <th>42</th>\n",
       "      <td>727928BW_TCRB</td>\n",
       "      <td>87</td>\n",
       "      <td>False</td>\n",
       "      <td>0.824874</td>\n",
       "    </tr>\n",
       "    <tr>\n",
       "      <th>43</th>\n",
       "      <td>7972BW_TCRB</td>\n",
       "      <td>87</td>\n",
       "      <td>True</td>\n",
       "      <td>0.814086</td>\n",
       "    </tr>\n",
       "    <tr>\n",
       "      <th>44</th>\n",
       "      <td>844960BW_TCRB</td>\n",
       "      <td>87</td>\n",
       "      <td>False</td>\n",
       "      <td>0.791091</td>\n",
       "    </tr>\n",
       "    <tr>\n",
       "      <th>45</th>\n",
       "      <td>964229BW_TCRB</td>\n",
       "      <td>87</td>\n",
       "      <td>False</td>\n",
       "      <td>0.809337</td>\n",
       "    </tr>\n",
       "    <tr>\n",
       "      <th>46</th>\n",
       "      <td>989003BW_TCRB</td>\n",
       "      <td>87</td>\n",
       "      <td>True</td>\n",
       "      <td>0.814147</td>\n",
       "    </tr>\n",
       "  </tbody>\n",
       "</table>\n",
       "</div>"
      ],
      "text/plain": [
       "            sample  nt_length  hospitalization  spectratype\n",
       "0   1132289BW_TCRB         87            False     0.818960\n",
       "1   1222568BW_TCRB         87            False     0.795735\n",
       "2   1337122BW_TCRB         87            False     0.864044\n",
       "3      1445BW_TCRB         87            False     0.845533\n",
       "4   1564208BW_TCRB         87            False     0.814635\n",
       "5   1566265BW_TCRB         87            False     0.828020\n",
       "6   1566319BW_TCRB         87            False     0.819268\n",
       "7   1566426BW_TCRB         87            False     0.834573\n",
       "8   1566449BW_TCRB         87            False     0.793647\n",
       "9   1566486BW_TCRB         87            False     0.798625\n",
       "10  1566510BW_TCRB         87            False     0.824400\n",
       "11  1566512BW_TCRB         87            False     0.829975\n",
       "12  1566515BW_TCRB         87            False     0.837420\n",
       "13  1566622BW_TCRB         87            False     0.817712\n",
       "14  1566779BW_TCRB         87            False     0.767958\n",
       "15  1566837BW_TCRB         87            False     0.818190\n",
       "16  1566889BW_TCRB         87            False     0.882119\n",
       "17  1566913BW_TCRB         87            False     0.824282\n",
       "18  1566984BW_TCRB         87            False     0.820905\n",
       "19  1567127BW_TCRB         87            False     0.820419\n",
       "20  1567268BW_TCRB         87            False     0.813375\n",
       "21  1568094BW_TCRB         87             True     0.829309\n",
       "22  1568100BW_TCRB         87            False     0.788121\n",
       "23  1569039BW_TCRB         87            False     0.773272\n",
       "24   234129BW_TCRB         87            False     0.789835\n",
       "25     2402BW_TCRB         87            False     0.858078\n",
       "26     2987BW_TCRB         87             True     0.805301\n",
       "27   300412BW_TCRB         87            False     0.826281\n",
       "28     3602BW_TCRB         87            False     0.794445\n",
       "29     3765BW_TCRB         87            False     0.801759\n",
       "30     3943BW_TCRB         87            False     0.826226\n",
       "31     3977BW_TCRB         87            False     0.804816\n",
       "32     4251BW_TCRB         87            False     0.818760\n",
       "33     4730BW_TCRB         87            False     0.801656\n",
       "34   476909BW_TCRB         87            False     0.777538\n",
       "35     5115BW_TCRB         87             True     0.839412\n",
       "36     5386BW_TCRB         87             True     0.810866\n",
       "37   585189BW_TCRB         87            False     0.824671\n",
       "38     5876BW_TCRB         87            False     0.843933\n",
       "39     6232BW_TCRB         87             True     0.816604\n",
       "40   681365BW_TCRB         87            False     0.795265\n",
       "41   712387BW_TCRB         87            False     0.786349\n",
       "42   727928BW_TCRB         87            False     0.824874\n",
       "43     7972BW_TCRB         87             True     0.814086\n",
       "44   844960BW_TCRB         87            False     0.791091\n",
       "45   964229BW_TCRB         87            False     0.809337\n",
       "46   989003BW_TCRB         87             True     0.814147"
      ]
     },
     "execution_count": 74,
     "metadata": {
      "tags": []
     },
     "output_type": "execute_result"
    }
   ],
   "source": [
    "#CDR3 nucleotide length\n",
    "df['nt_length'] = df['cdr3nt'].str.len()\n",
    "\n",
    "#calculates spectratype\n",
    "df_spectratype = df.groupby(['sample','nt_length','hospitalization']).agg({'freq':'sum'}).reset_index().rename(columns={'freq':\"spectratype\"})\n",
    "df_spectratype"
   ]
  },
  {
   "cell_type": "markdown",
   "metadata": {
    "id": "izQg3pZCLXXL"
   },
   "source": [
    "Basic analysis 7.2 - Spectratype bar plot for an individual sample\n",
    "\n",
    "1.   Define the sample that you would like to plot, replace the \"1132289BW_TCRB\t\" with the sample name of interest\n",
    "2.   x-axis and y-axis labels, figsize, fontsize are customizable "
   ]
  },
  {
   "cell_type": "code",
   "execution_count": null,
   "metadata": {
    "id": "wM6Ovht1O8N-"
   },
   "outputs": [],
   "source": [
    "df_sample=df_spectratype.loc[df_spectratype['sample'] == '1132289BW_TCRB']"
   ]
  },
  {
   "cell_type": "code",
   "execution_count": null,
   "metadata": {
    "colab": {
     "base_uri": "https://localhost:8080/",
     "height": 650
    },
    "executionInfo": {
     "elapsed": 809,
     "status": "ok",
     "timestamp": 1611888002266,
     "user": {
      "displayName": "Kerui Peng",
      "photoUrl": "https://lh3.googleusercontent.com/a-/AOh14GhCFbNNQavDfyVFYGThBoWptUPcEdIkBKjW1JK6=s64",
      "userId": "00454648627764987552"
     },
     "user_tz": 480
    },
    "id": "u1P8jkU2QK2_",
    "outputId": "92e449c5-4bd0-47a4-da43-8b0fcb48ee15"
   },
   "outputs": [
    {
     "data": {
      "text/plain": [
       "(array([0. , 0.1, 0.2, 0.3, 0.4, 0.5, 0.6, 0.7, 0.8, 0.9]),\n",
       " <a list of 10 Text major ticklabel objects>)"
      ]
     },
     "execution_count": 76,
     "metadata": {
      "tags": []
     },
     "output_type": "execute_result"
    },
    {
     "data": {
      "image/png": "[encoded data removed]",
      "text/plain": [
       "<Figure size 720x720 with 1 Axes>"
      ]
     },
     "metadata": {
      "needs_background": "light",
      "tags": []
     },
     "output_type": "display_data"
    }
   ],
   "source": [
    "ax = plt.subplots(figsize = (10,10))\n",
    "ax = sns.barplot(data=df_sample,x='nt_length',y='spectratype')\n",
    "ax.set_xlabel('nt_length',fontsize=20)\n",
    "ax.set_ylabel('frequency',fontsize=20)\n",
    "plt.xticks(fontsize=10)\n",
    "plt.yticks(fontsize=20)"
   ]
  },
  {
   "cell_type": "markdown",
   "metadata": {
    "id": "noSudrsx65ip"
   },
   "source": [
    "Basic analysis 7.1 Summary table for basic analysis"
   ]
  },
  {
   "cell_type": "code",
   "execution_count": null,
   "metadata": {
    "colab": {
     "base_uri": "https://localhost:8080/",
     "height": 1000
    },
    "executionInfo": {
     "elapsed": 373,
     "status": "ok",
     "timestamp": 1611888005616,
     "user": {
      "displayName": "Kerui Peng",
      "photoUrl": "https://lh3.googleusercontent.com/a-/AOh14GhCFbNNQavDfyVFYGThBoWptUPcEdIkBKjW1JK6=s64",
      "userId": "00454648627764987552"
     },
     "user_tz": 480
    },
    "id": "NDG2iD4j69JX",
    "outputId": "422b783b-66cc-4d37-bbda-d6dc5a6cae8b"
   },
   "outputs": [
    {
     "data": {
      "text/html": [
       "<div>\n",
       "<style scoped>\n",
       "    .dataframe tbody tr th:only-of-type {\n",
       "        vertical-align: middle;\n",
       "    }\n",
       "\n",
       "    .dataframe tbody tr th {\n",
       "        vertical-align: top;\n",
       "    }\n",
       "\n",
       "    .dataframe thead th {\n",
       "        text-align: right;\n",
       "    }\n",
       "</style>\n",
       "<table border=\"1\" class=\"dataframe\">\n",
       "  <thead>\n",
       "    <tr style=\"text-align: right;\">\n",
       "      <th></th>\n",
       "      <th>sample</th>\n",
       "      <th>hospitalization</th>\n",
       "      <th>clonotype_count</th>\n",
       "      <th>mean_frequency</th>\n",
       "      <th>geomean_frequency</th>\n",
       "      <th>reads_count</th>\n",
       "      <th>mean_cdr3nt_length</th>\n",
       "      <th>convergence</th>\n",
       "    </tr>\n",
       "  </thead>\n",
       "  <tbody>\n",
       "    <tr>\n",
       "      <th>0</th>\n",
       "      <td>6232BW_TCRB</td>\n",
       "      <td>True</td>\n",
       "      <td>218977</td>\n",
       "      <td>0.000004</td>\n",
       "      <td>2.346555e-06</td>\n",
       "      <td>439782</td>\n",
       "      <td>71.044534</td>\n",
       "      <td>1.059416</td>\n",
       "    </tr>\n",
       "    <tr>\n",
       "      <th>1</th>\n",
       "      <td>5115BW_TCRB</td>\n",
       "      <td>True</td>\n",
       "      <td>218935</td>\n",
       "      <td>0.000004</td>\n",
       "      <td>1.465120e-06</td>\n",
       "      <td>657815</td>\n",
       "      <td>73.028812</td>\n",
       "      <td>1.056906</td>\n",
       "    </tr>\n",
       "    <tr>\n",
       "      <th>2</th>\n",
       "      <td>989003BW_TCRB</td>\n",
       "      <td>True</td>\n",
       "      <td>328930</td>\n",
       "      <td>0.000002</td>\n",
       "      <td>2.010251e-06</td>\n",
       "      <td>468659</td>\n",
       "      <td>70.830814</td>\n",
       "      <td>1.064478</td>\n",
       "    </tr>\n",
       "    <tr>\n",
       "      <th>3</th>\n",
       "      <td>7972BW_TCRB</td>\n",
       "      <td>True</td>\n",
       "      <td>173505</td>\n",
       "      <td>0.000005</td>\n",
       "      <td>3.560782e-06</td>\n",
       "      <td>255247</td>\n",
       "      <td>70.825511</td>\n",
       "      <td>1.048933</td>\n",
       "    </tr>\n",
       "    <tr>\n",
       "      <th>4</th>\n",
       "      <td>5386BW_TCRB</td>\n",
       "      <td>True</td>\n",
       "      <td>368429</td>\n",
       "      <td>0.000002</td>\n",
       "      <td>1.598191e-06</td>\n",
       "      <td>581196</td>\n",
       "      <td>70.545304</td>\n",
       "      <td>1.065433</td>\n",
       "    </tr>\n",
       "    <tr>\n",
       "      <th>5</th>\n",
       "      <td>2987BW_TCRB</td>\n",
       "      <td>True</td>\n",
       "      <td>302352</td>\n",
       "      <td>0.000003</td>\n",
       "      <td>1.785625e-06</td>\n",
       "      <td>519449</td>\n",
       "      <td>70.061195</td>\n",
       "      <td>1.066509</td>\n",
       "    </tr>\n",
       "    <tr>\n",
       "      <th>6</th>\n",
       "      <td>1568094BW_TCRB</td>\n",
       "      <td>True</td>\n",
       "      <td>291315</td>\n",
       "      <td>0.000003</td>\n",
       "      <td>2.114467e-06</td>\n",
       "      <td>443761</td>\n",
       "      <td>72.149922</td>\n",
       "      <td>1.059027</td>\n",
       "    </tr>\n",
       "    <tr>\n",
       "      <th>7</th>\n",
       "      <td>476909BW_TCRB</td>\n",
       "      <td>False</td>\n",
       "      <td>295809</td>\n",
       "      <td>0.000003</td>\n",
       "      <td>1.326791e-06</td>\n",
       "      <td>746763</td>\n",
       "      <td>67.645802</td>\n",
       "      <td>1.059928</td>\n",
       "    </tr>\n",
       "    <tr>\n",
       "      <th>8</th>\n",
       "      <td>234129BW_TCRB</td>\n",
       "      <td>False</td>\n",
       "      <td>334854</td>\n",
       "      <td>0.000002</td>\n",
       "      <td>1.622365e-06</td>\n",
       "      <td>542675</td>\n",
       "      <td>68.715633</td>\n",
       "      <td>1.070485</td>\n",
       "    </tr>\n",
       "    <tr>\n",
       "      <th>9</th>\n",
       "      <td>1566889BW_TCRB</td>\n",
       "      <td>False</td>\n",
       "      <td>380957</td>\n",
       "      <td>0.000002</td>\n",
       "      <td>1.752903e-06</td>\n",
       "      <td>593467</td>\n",
       "      <td>76.744388</td>\n",
       "      <td>1.077492</td>\n",
       "    </tr>\n",
       "    <tr>\n",
       "      <th>10</th>\n",
       "      <td>1566837BW_TCRB</td>\n",
       "      <td>False</td>\n",
       "      <td>256258</td>\n",
       "      <td>0.000003</td>\n",
       "      <td>2.444340e-06</td>\n",
       "      <td>392575</td>\n",
       "      <td>71.182543</td>\n",
       "      <td>1.065814</td>\n",
       "    </tr>\n",
       "    <tr>\n",
       "      <th>11</th>\n",
       "      <td>1222568BW_TCRB</td>\n",
       "      <td>False</td>\n",
       "      <td>324881</td>\n",
       "      <td>0.000002</td>\n",
       "      <td>1.667428e-06</td>\n",
       "      <td>572649</td>\n",
       "      <td>69.228933</td>\n",
       "      <td>1.069300</td>\n",
       "    </tr>\n",
       "    <tr>\n",
       "      <th>12</th>\n",
       "      <td>3977BW_TCRB</td>\n",
       "      <td>False</td>\n",
       "      <td>341472</td>\n",
       "      <td>0.000002</td>\n",
       "      <td>1.609344e-06</td>\n",
       "      <td>594791</td>\n",
       "      <td>70.018966</td>\n",
       "      <td>1.077474</td>\n",
       "    </tr>\n",
       "    <tr>\n",
       "      <th>13</th>\n",
       "      <td>1566319BW_TCRB</td>\n",
       "      <td>False</td>\n",
       "      <td>423509</td>\n",
       "      <td>0.000002</td>\n",
       "      <td>1.529767e-06</td>\n",
       "      <td>615431</td>\n",
       "      <td>71.276334</td>\n",
       "      <td>1.091122</td>\n",
       "    </tr>\n",
       "    <tr>\n",
       "      <th>14</th>\n",
       "      <td>585189BW_TCRB</td>\n",
       "      <td>False</td>\n",
       "      <td>159332</td>\n",
       "      <td>0.000005</td>\n",
       "      <td>3.617791e-06</td>\n",
       "      <td>269862</td>\n",
       "      <td>71.746367</td>\n",
       "      <td>1.039219</td>\n",
       "    </tr>\n",
       "    <tr>\n",
       "      <th>15</th>\n",
       "      <td>1564208BW_TCRB</td>\n",
       "      <td>False</td>\n",
       "      <td>356440</td>\n",
       "      <td>0.000002</td>\n",
       "      <td>1.655521e-06</td>\n",
       "      <td>585320</td>\n",
       "      <td>70.873229</td>\n",
       "      <td>1.075315</td>\n",
       "    </tr>\n",
       "    <tr>\n",
       "      <th>16</th>\n",
       "      <td>1566779BW_TCRB</td>\n",
       "      <td>False</td>\n",
       "      <td>415809</td>\n",
       "      <td>0.000002</td>\n",
       "      <td>9.275172e-07</td>\n",
       "      <td>1002223</td>\n",
       "      <td>66.812358</td>\n",
       "      <td>1.084395</td>\n",
       "    </tr>\n",
       "    <tr>\n",
       "      <th>17</th>\n",
       "      <td>1566512BW_TCRB</td>\n",
       "      <td>False</td>\n",
       "      <td>354092</td>\n",
       "      <td>0.000002</td>\n",
       "      <td>1.829715e-06</td>\n",
       "      <td>535022</td>\n",
       "      <td>72.207851</td>\n",
       "      <td>1.081309</td>\n",
       "    </tr>\n",
       "    <tr>\n",
       "      <th>18</th>\n",
       "      <td>1569039BW_TCRB</td>\n",
       "      <td>False</td>\n",
       "      <td>390343</td>\n",
       "      <td>0.000002</td>\n",
       "      <td>1.382397e-06</td>\n",
       "      <td>640208</td>\n",
       "      <td>67.274651</td>\n",
       "      <td>1.068093</td>\n",
       "    </tr>\n",
       "    <tr>\n",
       "      <th>19</th>\n",
       "      <td>1568100BW_TCRB</td>\n",
       "      <td>False</td>\n",
       "      <td>247100</td>\n",
       "      <td>0.000003</td>\n",
       "      <td>2.734798e-06</td>\n",
       "      <td>320535</td>\n",
       "      <td>68.566502</td>\n",
       "      <td>1.061522</td>\n",
       "    </tr>\n",
       "    <tr>\n",
       "      <th>20</th>\n",
       "      <td>1566426BW_TCRB</td>\n",
       "      <td>False</td>\n",
       "      <td>279442</td>\n",
       "      <td>0.000003</td>\n",
       "      <td>2.483287e-06</td>\n",
       "      <td>375069</td>\n",
       "      <td>72.607892</td>\n",
       "      <td>1.066157</td>\n",
       "    </tr>\n",
       "    <tr>\n",
       "      <th>21</th>\n",
       "      <td>964229BW_TCRB</td>\n",
       "      <td>False</td>\n",
       "      <td>258345</td>\n",
       "      <td>0.000003</td>\n",
       "      <td>1.732959e-06</td>\n",
       "      <td>556220</td>\n",
       "      <td>70.412308</td>\n",
       "      <td>1.072576</td>\n",
       "    </tr>\n",
       "    <tr>\n",
       "      <th>22</th>\n",
       "      <td>1566984BW_TCRB</td>\n",
       "      <td>False</td>\n",
       "      <td>174923</td>\n",
       "      <td>0.000005</td>\n",
       "      <td>3.037266e-06</td>\n",
       "      <td>313608</td>\n",
       "      <td>71.418764</td>\n",
       "      <td>1.051144</td>\n",
       "    </tr>\n",
       "    <tr>\n",
       "      <th>23</th>\n",
       "      <td>5876BW_TCRB</td>\n",
       "      <td>False</td>\n",
       "      <td>105572</td>\n",
       "      <td>0.000008</td>\n",
       "      <td>3.271094e-06</td>\n",
       "      <td>322666</td>\n",
       "      <td>73.422178</td>\n",
       "      <td>1.039903</td>\n",
       "    </tr>\n",
       "    <tr>\n",
       "      <th>24</th>\n",
       "      <td>1566510BW_TCRB</td>\n",
       "      <td>False</td>\n",
       "      <td>403884</td>\n",
       "      <td>0.000002</td>\n",
       "      <td>1.675801e-06</td>\n",
       "      <td>561570</td>\n",
       "      <td>71.722833</td>\n",
       "      <td>1.078857</td>\n",
       "    </tr>\n",
       "    <tr>\n",
       "      <th>25</th>\n",
       "      <td>1566515BW_TCRB</td>\n",
       "      <td>False</td>\n",
       "      <td>194647</td>\n",
       "      <td>0.000004</td>\n",
       "      <td>2.346147e-06</td>\n",
       "      <td>426117</td>\n",
       "      <td>72.855543</td>\n",
       "      <td>1.053832</td>\n",
       "    </tr>\n",
       "    <tr>\n",
       "      <th>26</th>\n",
       "      <td>1566622BW_TCRB</td>\n",
       "      <td>False</td>\n",
       "      <td>399770</td>\n",
       "      <td>0.000002</td>\n",
       "      <td>1.513134e-06</td>\n",
       "      <td>643787</td>\n",
       "      <td>71.140932</td>\n",
       "      <td>1.076195</td>\n",
       "    </tr>\n",
       "    <tr>\n",
       "      <th>27</th>\n",
       "      <td>681365BW_TCRB</td>\n",
       "      <td>False</td>\n",
       "      <td>239494</td>\n",
       "      <td>0.000003</td>\n",
       "      <td>2.630007e-06</td>\n",
       "      <td>345051</td>\n",
       "      <td>69.188021</td>\n",
       "      <td>1.062166</td>\n",
       "    </tr>\n",
       "    <tr>\n",
       "      <th>28</th>\n",
       "      <td>1566486BW_TCRB</td>\n",
       "      <td>False</td>\n",
       "      <td>523319</td>\n",
       "      <td>0.000002</td>\n",
       "      <td>1.249096e-06</td>\n",
       "      <td>691930</td>\n",
       "      <td>69.480345</td>\n",
       "      <td>1.076104</td>\n",
       "    </tr>\n",
       "    <tr>\n",
       "      <th>29</th>\n",
       "      <td>4730BW_TCRB</td>\n",
       "      <td>False</td>\n",
       "      <td>282362</td>\n",
       "      <td>0.000003</td>\n",
       "      <td>2.277974e-06</td>\n",
       "      <td>404037</td>\n",
       "      <td>69.744067</td>\n",
       "      <td>1.067297</td>\n",
       "    </tr>\n",
       "    <tr>\n",
       "      <th>30</th>\n",
       "      <td>712387BW_TCRB</td>\n",
       "      <td>False</td>\n",
       "      <td>399752</td>\n",
       "      <td>0.000002</td>\n",
       "      <td>1.666362e-06</td>\n",
       "      <td>526390</td>\n",
       "      <td>68.412378</td>\n",
       "      <td>1.076732</td>\n",
       "    </tr>\n",
       "    <tr>\n",
       "      <th>31</th>\n",
       "      <td>727928BW_TCRB</td>\n",
       "      <td>False</td>\n",
       "      <td>234718</td>\n",
       "      <td>0.000004</td>\n",
       "      <td>1.666592e-06</td>\n",
       "      <td>592901</td>\n",
       "      <td>71.764004</td>\n",
       "      <td>1.062553</td>\n",
       "    </tr>\n",
       "    <tr>\n",
       "      <th>32</th>\n",
       "      <td>4251BW_TCRB</td>\n",
       "      <td>False</td>\n",
       "      <td>197487</td>\n",
       "      <td>0.000004</td>\n",
       "      <td>1.957584e-06</td>\n",
       "      <td>486544</td>\n",
       "      <td>71.232115</td>\n",
       "      <td>1.051033</td>\n",
       "    </tr>\n",
       "    <tr>\n",
       "      <th>33</th>\n",
       "      <td>844960BW_TCRB</td>\n",
       "      <td>False</td>\n",
       "      <td>317137</td>\n",
       "      <td>0.000002</td>\n",
       "      <td>1.381664e-06</td>\n",
       "      <td>706671</td>\n",
       "      <td>68.824887</td>\n",
       "      <td>1.069515</td>\n",
       "    </tr>\n",
       "    <tr>\n",
       "      <th>34</th>\n",
       "      <td>1445BW_TCRB</td>\n",
       "      <td>False</td>\n",
       "      <td>474134</td>\n",
       "      <td>0.000002</td>\n",
       "      <td>1.117528e-06</td>\n",
       "      <td>862773</td>\n",
       "      <td>73.561335</td>\n",
       "      <td>1.085099</td>\n",
       "    </tr>\n",
       "    <tr>\n",
       "      <th>35</th>\n",
       "      <td>300412BW_TCRB</td>\n",
       "      <td>False</td>\n",
       "      <td>425697</td>\n",
       "      <td>0.000002</td>\n",
       "      <td>1.473607e-06</td>\n",
       "      <td>648414</td>\n",
       "      <td>71.886436</td>\n",
       "      <td>1.079622</td>\n",
       "    </tr>\n",
       "    <tr>\n",
       "      <th>36</th>\n",
       "      <td>3943BW_TCRB</td>\n",
       "      <td>False</td>\n",
       "      <td>207000</td>\n",
       "      <td>0.000004</td>\n",
       "      <td>2.290030e-06</td>\n",
       "      <td>462984</td>\n",
       "      <td>71.881662</td>\n",
       "      <td>1.065621</td>\n",
       "    </tr>\n",
       "    <tr>\n",
       "      <th>37</th>\n",
       "      <td>1337122BW_TCRB</td>\n",
       "      <td>False</td>\n",
       "      <td>464126</td>\n",
       "      <td>0.000002</td>\n",
       "      <td>1.360585e-06</td>\n",
       "      <td>700789</td>\n",
       "      <td>75.171835</td>\n",
       "      <td>1.093435</td>\n",
       "    </tr>\n",
       "    <tr>\n",
       "      <th>38</th>\n",
       "      <td>3765BW_TCRB</td>\n",
       "      <td>False</td>\n",
       "      <td>347798</td>\n",
       "      <td>0.000002</td>\n",
       "      <td>1.724902e-06</td>\n",
       "      <td>536702</td>\n",
       "      <td>69.752996</td>\n",
       "      <td>1.068107</td>\n",
       "    </tr>\n",
       "    <tr>\n",
       "      <th>39</th>\n",
       "      <td>1567127BW_TCRB</td>\n",
       "      <td>False</td>\n",
       "      <td>389697</td>\n",
       "      <td>0.000002</td>\n",
       "      <td>1.763717e-06</td>\n",
       "      <td>519051</td>\n",
       "      <td>71.376425</td>\n",
       "      <td>1.082847</td>\n",
       "    </tr>\n",
       "    <tr>\n",
       "      <th>40</th>\n",
       "      <td>1567268BW_TCRB</td>\n",
       "      <td>False</td>\n",
       "      <td>359218</td>\n",
       "      <td>0.000002</td>\n",
       "      <td>1.582085e-06</td>\n",
       "      <td>619846</td>\n",
       "      <td>70.763597</td>\n",
       "      <td>1.078050</td>\n",
       "    </tr>\n",
       "    <tr>\n",
       "      <th>41</th>\n",
       "      <td>1566913BW_TCRB</td>\n",
       "      <td>False</td>\n",
       "      <td>357131</td>\n",
       "      <td>0.000002</td>\n",
       "      <td>1.814255e-06</td>\n",
       "      <td>514080</td>\n",
       "      <td>71.712540</td>\n",
       "      <td>1.066712</td>\n",
       "    </tr>\n",
       "    <tr>\n",
       "      <th>42</th>\n",
       "      <td>2402BW_TCRB</td>\n",
       "      <td>False</td>\n",
       "      <td>264063</td>\n",
       "      <td>0.000003</td>\n",
       "      <td>1.794409e-06</td>\n",
       "      <td>573268</td>\n",
       "      <td>74.652762</td>\n",
       "      <td>1.072311</td>\n",
       "    </tr>\n",
       "    <tr>\n",
       "      <th>43</th>\n",
       "      <td>1132289BW_TCRB</td>\n",
       "      <td>False</td>\n",
       "      <td>377747</td>\n",
       "      <td>0.000002</td>\n",
       "      <td>1.665094e-06</td>\n",
       "      <td>568079</td>\n",
       "      <td>71.249523</td>\n",
       "      <td>1.076540</td>\n",
       "    </tr>\n",
       "    <tr>\n",
       "      <th>44</th>\n",
       "      <td>1566449BW_TCRB</td>\n",
       "      <td>False</td>\n",
       "      <td>366168</td>\n",
       "      <td>0.000002</td>\n",
       "      <td>1.677600e-06</td>\n",
       "      <td>543175</td>\n",
       "      <td>69.047266</td>\n",
       "      <td>1.070754</td>\n",
       "    </tr>\n",
       "    <tr>\n",
       "      <th>45</th>\n",
       "      <td>3602BW_TCRB</td>\n",
       "      <td>False</td>\n",
       "      <td>381192</td>\n",
       "      <td>0.000002</td>\n",
       "      <td>1.720397e-06</td>\n",
       "      <td>511737</td>\n",
       "      <td>69.116718</td>\n",
       "      <td>1.070451</td>\n",
       "    </tr>\n",
       "    <tr>\n",
       "      <th>46</th>\n",
       "      <td>1566265BW_TCRB</td>\n",
       "      <td>False</td>\n",
       "      <td>453526</td>\n",
       "      <td>0.000002</td>\n",
       "      <td>1.236933e-06</td>\n",
       "      <td>758231</td>\n",
       "      <td>72.037725</td>\n",
       "      <td>1.087611</td>\n",
       "    </tr>\n",
       "  </tbody>\n",
       "</table>\n",
       "</div>"
      ],
      "text/plain": [
       "            sample  hospitalization  ...  mean_cdr3nt_length  convergence\n",
       "0      6232BW_TCRB             True  ...           71.044534     1.059416\n",
       "1      5115BW_TCRB             True  ...           73.028812     1.056906\n",
       "2    989003BW_TCRB             True  ...           70.830814     1.064478\n",
       "3      7972BW_TCRB             True  ...           70.825511     1.048933\n",
       "4      5386BW_TCRB             True  ...           70.545304     1.065433\n",
       "5      2987BW_TCRB             True  ...           70.061195     1.066509\n",
       "6   1568094BW_TCRB             True  ...           72.149922     1.059027\n",
       "7    476909BW_TCRB            False  ...           67.645802     1.059928\n",
       "8    234129BW_TCRB            False  ...           68.715633     1.070485\n",
       "9   1566889BW_TCRB            False  ...           76.744388     1.077492\n",
       "10  1566837BW_TCRB            False  ...           71.182543     1.065814\n",
       "11  1222568BW_TCRB            False  ...           69.228933     1.069300\n",
       "12     3977BW_TCRB            False  ...           70.018966     1.077474\n",
       "13  1566319BW_TCRB            False  ...           71.276334     1.091122\n",
       "14   585189BW_TCRB            False  ...           71.746367     1.039219\n",
       "15  1564208BW_TCRB            False  ...           70.873229     1.075315\n",
       "16  1566779BW_TCRB            False  ...           66.812358     1.084395\n",
       "17  1566512BW_TCRB            False  ...           72.207851     1.081309\n",
       "18  1569039BW_TCRB            False  ...           67.274651     1.068093\n",
       "19  1568100BW_TCRB            False  ...           68.566502     1.061522\n",
       "20  1566426BW_TCRB            False  ...           72.607892     1.066157\n",
       "21   964229BW_TCRB            False  ...           70.412308     1.072576\n",
       "22  1566984BW_TCRB            False  ...           71.418764     1.051144\n",
       "23     5876BW_TCRB            False  ...           73.422178     1.039903\n",
       "24  1566510BW_TCRB            False  ...           71.722833     1.078857\n",
       "25  1566515BW_TCRB            False  ...           72.855543     1.053832\n",
       "26  1566622BW_TCRB            False  ...           71.140932     1.076195\n",
       "27   681365BW_TCRB            False  ...           69.188021     1.062166\n",
       "28  1566486BW_TCRB            False  ...           69.480345     1.076104\n",
       "29     4730BW_TCRB            False  ...           69.744067     1.067297\n",
       "30   712387BW_TCRB            False  ...           68.412378     1.076732\n",
       "31   727928BW_TCRB            False  ...           71.764004     1.062553\n",
       "32     4251BW_TCRB            False  ...           71.232115     1.051033\n",
       "33   844960BW_TCRB            False  ...           68.824887     1.069515\n",
       "34     1445BW_TCRB            False  ...           73.561335     1.085099\n",
       "35   300412BW_TCRB            False  ...           71.886436     1.079622\n",
       "36     3943BW_TCRB            False  ...           71.881662     1.065621\n",
       "37  1337122BW_TCRB            False  ...           75.171835     1.093435\n",
       "38     3765BW_TCRB            False  ...           69.752996     1.068107\n",
       "39  1567127BW_TCRB            False  ...           71.376425     1.082847\n",
       "40  1567268BW_TCRB            False  ...           70.763597     1.078050\n",
       "41  1566913BW_TCRB            False  ...           71.712540     1.066712\n",
       "42     2402BW_TCRB            False  ...           74.652762     1.072311\n",
       "43  1132289BW_TCRB            False  ...           71.249523     1.076540\n",
       "44  1566449BW_TCRB            False  ...           69.047266     1.070754\n",
       "45     3602BW_TCRB            False  ...           69.116718     1.070451\n",
       "46  1566265BW_TCRB            False  ...           72.037725     1.087611\n",
       "\n",
       "[47 rows x 8 columns]"
      ]
     },
     "execution_count": 77,
     "metadata": {
      "tags": []
     },
     "output_type": "execute_result"
    }
   ],
   "source": [
    "#merge df_count and df_geomean_frequency first\n",
    "df_geomean_frequency = df_geomean_frequency.merge(df_count, on='sample', how='left')\n",
    "\n",
    "#create a dataframe that combines all the basic analysis (except for spectratype)\n",
    "dfs = [df_diversity, df_mean_frequency, df_geomean_frequency, df_mean_cdr3nt_length, df_unique_CDR3_mean]\n",
    "\n",
    "df_combined = pd.merge(dfs[0], dfs[1], left_on=['sample','hospitalization'], right_on=['sample','hospitalization'], how='outer')\n",
    "for d in dfs[2:]:\n",
    "    df_combined = pd.merge(df_combined, d, left_on=['sample','hospitalization'], right_on=['sample','hospitalization'], how='outer')\n",
    "\n",
    "df_combined"
   ]
  },
  {
   "cell_type": "markdown",
   "metadata": {
    "id": "T59Bb7tX3Cws"
   },
   "source": [
    "Basic analysis 7.2 - Statistical analysis of mean frequency"
   ]
  },
  {
   "cell_type": "markdown",
   "metadata": {
    "id": "FI5IUCcB3U_w"
   },
   "source": [
    "Basic analysis 7.2.1 - Test if the metric is normally distributed\n",
    "1.   the null hypothesis here is normality\n",
    "2.   if the p value is greater than 0.05, we cannot reject the null hypothesis (it is a normal distribution). If the p value is smaller than 0.05, we reject the null hypothesis (it is not a normal distribution)\n",
    "3.   change 'clonotype_count' to other metrics that you are interested in\n",
    "\n"
   ]
  },
  {
   "cell_type": "code",
   "execution_count": null,
   "metadata": {
    "colab": {
     "base_uri": "https://localhost:8080/"
    },
    "executionInfo": {
     "elapsed": 378,
     "status": "ok",
     "timestamp": 1611888060947,
     "user": {
      "displayName": "Kerui Peng",
      "photoUrl": "https://lh3.googleusercontent.com/a-/AOh14GhCFbNNQavDfyVFYGThBoWptUPcEdIkBKjW1JK6=s64",
      "userId": "00454648627764987552"
     },
     "user_tz": 480
    },
    "id": "wiPIddcy3gMn",
    "outputId": "ba66a2d3-595b-45ba-a73a-7ab9ec8014c5"
   },
   "outputs": [
    {
     "data": {
      "text/plain": [
       "NormaltestResult(statistic=0.7971806833771458, pvalue=0.6712656345816417)"
      ]
     },
     "execution_count": 78,
     "metadata": {
      "tags": []
     },
     "output_type": "execute_result"
    }
   ],
   "source": [
    "x = stats.normaltest(df_combined['clonotype_count'])\n",
    "x"
   ]
  },
  {
   "cell_type": "markdown",
   "metadata": {
    "id": "nNMeHRFL3mAi"
   },
   "source": [
    "Basic analysis 7.2.2 - Mean or median of diversity metrics among groups\n",
    "1.   if the dataset is normally distributed, calculate mean\n",
    "2.   if the dataset is not normally distributed, calculate median\n",
    "3.   change 'clonotype_count' to other metrics that you are interested in\n"
   ]
  },
  {
   "cell_type": "code",
   "execution_count": null,
   "metadata": {
    "colab": {
     "base_uri": "https://localhost:8080/",
     "height": 111
    },
    "executionInfo": {
     "elapsed": 685,
     "status": "ok",
     "timestamp": 1611888087187,
     "user": {
      "displayName": "Kerui Peng",
      "photoUrl": "https://lh3.googleusercontent.com/a-/AOh14GhCFbNNQavDfyVFYGThBoWptUPcEdIkBKjW1JK6=s64",
      "userId": "00454648627764987552"
     },
     "user_tz": 480
    },
    "id": "3gHS0ZBH-_tc",
    "outputId": "1e6f5762-621b-4729-8c87-1026f1742676"
   },
   "outputs": [
    {
     "data": {
      "text/html": [
       "<div>\n",
       "<style scoped>\n",
       "    .dataframe tbody tr th:only-of-type {\n",
       "        vertical-align: middle;\n",
       "    }\n",
       "\n",
       "    .dataframe tbody tr th {\n",
       "        vertical-align: top;\n",
       "    }\n",
       "\n",
       "    .dataframe thead th {\n",
       "        text-align: right;\n",
       "    }\n",
       "</style>\n",
       "<table border=\"1\" class=\"dataframe\">\n",
       "  <thead>\n",
       "    <tr style=\"text-align: right;\">\n",
       "      <th></th>\n",
       "      <th>hospitalization</th>\n",
       "      <th>clonotype_count</th>\n",
       "    </tr>\n",
       "  </thead>\n",
       "  <tbody>\n",
       "    <tr>\n",
       "      <th>0</th>\n",
       "      <td>False</td>\n",
       "      <td>328980.125000</td>\n",
       "    </tr>\n",
       "    <tr>\n",
       "      <th>1</th>\n",
       "      <td>True</td>\n",
       "      <td>271777.571429</td>\n",
       "    </tr>\n",
       "  </tbody>\n",
       "</table>\n",
       "</div>"
      ],
      "text/plain": [
       "   hospitalization  clonotype_count\n",
       "0            False    328980.125000\n",
       "1             True    271777.571429"
      ]
     },
     "execution_count": 79,
     "metadata": {
      "tags": []
     },
     "output_type": "execute_result"
    }
   ],
   "source": [
    "#calculate the mean among two groups\n",
    "df_metric_mean = df_combined.groupby('hospitalization')['clonotype_count'].mean().reset_index()\n",
    "df_metric_mean"
   ]
  },
  {
   "cell_type": "code",
   "execution_count": null,
   "metadata": {
    "id": "j1gPq7cX3tzK"
   },
   "outputs": [],
   "source": [
    "#calculate the median among two groups\n",
    "df_metric_median = df_combined.groupby('hospitalization')['clonotype_count'].median().reset_index()\n",
    "df_metric_median"
   ]
  },
  {
   "cell_type": "markdown",
   "metadata": {
    "id": "efXcSaid38-G"
   },
   "source": [
    "Basic analysis 7.2.3 - Stat test\n",
    "1.   if the dataset is normally distributed, use t-test (stats.ttest_ind)\n",
    "*   change the group1, group2 to the groups/samples that you are interested in\n",
    "2.   if the dataset is not normally distributed, use Wilcoxon rank-sum test (stats.ranksums)\n",
    "*   change the group1, group2 to the groups/samples that you are interested in\n",
    "3.  change 'clonotype_count' to other metrics that you are interested in"
   ]
  },
  {
   "cell_type": "code",
   "execution_count": null,
   "metadata": {
    "colab": {
     "base_uri": "https://localhost:8080/"
    },
    "executionInfo": {
     "elapsed": 333,
     "status": "ok",
     "timestamp": 1611888141568,
     "user": {
      "displayName": "Kerui Peng",
      "photoUrl": "https://lh3.googleusercontent.com/a-/AOh14GhCFbNNQavDfyVFYGThBoWptUPcEdIkBKjW1JK6=s64",
      "userId": "00454648627764987552"
     },
     "user_tz": 480
    },
    "id": "AWNRzJ4B38fx",
    "outputId": "16fc5f2f-35d0-43a0-bb35-64c268f26df0"
   },
   "outputs": [
    {
     "data": {
      "text/plain": [
       "Ttest_indResult(statistic=-1.519104896430262, pvalue=0.13573143934391055)"
      ]
     },
     "execution_count": 81,
     "metadata": {
      "tags": []
     },
     "output_type": "execute_result"
    }
   ],
   "source": [
    "df1 = df_combined.copy()\n",
    "df_group1 = df1[df1['hospitalization'] == True]\n",
    "df_group2 = df1[df1['hospitalization'] == False]\n",
    "stats.ttest_ind(df_group1['clonotype_count'], df_group2['clonotype_count'])"
   ]
  },
  {
   "cell_type": "markdown",
   "metadata": {
    "id": "junq9dGHJHhe"
   },
   "source": [
    "Basic analysis 7.3.1 - Bar plot on metric per sample\n",
    "1.   x-axis and y-axis labels, figsize, fontsize are customizable\n",
    "2.   change 'clonotype_count' to other metrics that you are interested in"
   ]
  },
  {
   "cell_type": "code",
   "execution_count": null,
   "metadata": {
    "colab": {
     "base_uri": "https://localhost:8080/",
     "height": 731
    },
    "executionInfo": {
     "elapsed": 1527,
     "status": "ok",
     "timestamp": 1611888228261,
     "user": {
      "displayName": "Kerui Peng",
      "photoUrl": "https://lh3.googleusercontent.com/a-/AOh14GhCFbNNQavDfyVFYGThBoWptUPcEdIkBKjW1JK6=s64",
      "userId": "00454648627764987552"
     },
     "user_tz": 480
    },
    "id": "jLIID4KClbd4",
    "outputId": "243bc359-d125-4484-9851-854e1b4aa608"
   },
   "outputs": [
    {
     "data": {
      "text/plain": [
       "(array([     0., 100000., 200000., 300000., 400000., 500000., 600000.]),\n",
       " <a list of 7 Text major ticklabel objects>)"
      ]
     },
     "execution_count": 83,
     "metadata": {
      "tags": []
     },
     "output_type": "execute_result"
    },
    {
     "data": {
      "image/png": "[encoded data removed]",
      "text/plain": [
       "<Figure size 720x720 with 1 Axes>"
      ]
     },
     "metadata": {
      "needs_background": "light",
      "tags": []
     },
     "output_type": "display_data"
    }
   ],
   "source": [
    "ax = plt.subplots(figsize = (10,10))\n",
    "ax = sns.barplot(data=df_combined,x='sample',y='clonotype_count',hue='hospitalization')\n",
    "ax.set_xlabel('sample',fontsize=20)\n",
    "ax.set_ylabel('number of clonotypes',fontsize=20)\n",
    "plt.xticks(fontsize=10, rotation=90)\n",
    "plt.yticks(fontsize=20)"
   ]
  },
  {
   "cell_type": "markdown",
   "metadata": {
    "id": "iqqkBJm98ywW"
   },
   "source": [
    "Basic analysis 2.4 - Clonotype count violin plot per group\n",
    "1.   x-axis and y-axis labels, figsize, fontsize are customizable  \n",
    "2.   change the violin plot (sns.violinplot) to the plot type that you are interested in, includes strip plot (sns.stripplot), swarm plot (sns.swarmplot), box plot (sns.boxplot), boxen plot (sns.boxenplot), point plot (sns.pointplot), and bar plot (sns.barplot)\n",
    "3.   change 'clonotype_count' to other metrics that you are interested in"
   ]
  },
  {
   "cell_type": "code",
   "execution_count": null,
   "metadata": {
    "colab": {
     "base_uri": "https://localhost:8080/",
     "height": 624
    },
    "executionInfo": {
     "elapsed": 656,
     "status": "ok",
     "timestamp": 1611888248080,
     "user": {
      "displayName": "Kerui Peng",
      "photoUrl": "https://lh3.googleusercontent.com/a-/AOh14GhCFbNNQavDfyVFYGThBoWptUPcEdIkBKjW1JK6=s64",
      "userId": "00454648627764987552"
     },
     "user_tz": 480
    },
    "id": "GJBJIyMC7vqZ",
    "outputId": "bb898480-c379-41e2-8c9b-1fd2aff38db8"
   },
   "outputs": [
    {
     "data": {
      "image/png": "[encoded data removed]",
      "text/plain": [
       "<Figure size 720x720 with 1 Axes>"
      ]
     },
     "metadata": {
      "needs_background": "light",
      "tags": []
     },
     "output_type": "display_data"
    }
   ],
   "source": [
    "ax = plt.subplots(figsize = (10,10))\n",
    "\n",
    "ax = sns.violinplot(x='hospitalization',y='clonotype_count', data=df_combined)\n",
    "\n",
    "ax.set_xlabel('hospitalization',fontsize=20)\n",
    "ax.set_ylabel('number of clonotypes',fontsize=20)\n",
    "plt.xticks(fontsize=20)\n",
    "plt.yticks(fontsize=20)\n",
    "\n",
    "plt.show()"
   ]
  }
 ],
 "metadata": {
  "accelerator": "GPU",
  "colab": {
   "authorship_tag": "ABX9TyNkbqjYcuNxws8F+bm0hG/t",
   "name": "Basic analysis_COVID.ipynb",
   "provenance": []
  },
  "kernelspec": {
   "display_name": "Python 3",
   "language": "python",
   "name": "python3"
  },
  "language_info": {
   "codemirror_mode": {
    "name": "ipython",
    "version": 3
   },
   "file_extension": ".py",
   "mimetype": "text/x-python",
   "name": "python",
   "nbconvert_exporter": "python",
   "pygments_lexer": "ipython3",
   "version": "3.7.4"
  }
 },
 "nbformat": 4,
 "nbformat_minor": 1
}
